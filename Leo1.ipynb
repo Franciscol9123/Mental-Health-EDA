{
 "cells": [
  {
   "cell_type": "code",
   "execution_count": null,
   "id": "44cb53a8-ac36-410c-a223-fe6d6601657a",
   "metadata": {},
   "outputs": [],
   "source": [
    "#import set-up\n",
    "import matplotlib.pyplot as plt\n",
    "import pandas as pd \n",
    "from pathlib import Path "
   ]
  },
  {
   "cell_type": "code",
   "execution_count": null,
   "id": "93ad4e3b-8ec4-493a-b770-8573e2f779c9",
   "metadata": {},
   "outputs": [],
   "source": [
    "#Open the csv's for school district\n",
    "indicators_A_D_path = \n",
    "schools_data_path = Path(\"Resources/schools_complete.csv\")\n",
    "students_data_path = Path(\"Resources/students_complete.csv\")\n",
    "\n",
    "#Read school district data and student data\n",
    "schools_data_df = pd.read_csv(schools_data_path)\n",
    "students_data_df = pd.read_csv(students_data_path)\n",
    "\n",
    "#creating combined table\n",
    "schools_complete_df = pd.merge(students_data_df, schools_data_df, how=\"left\", on = [\"school_name\", \"school_name\"])\n",
    "schools_complete_df.head(10)"
   ]
  }
 ],
 "metadata": {
  "kernelspec": {
   "display_name": "Python 3 (ipykernel)",
   "language": "python",
   "name": "python3"
  },
  "language_info": {
   "codemirror_mode": {
    "name": "ipython",
    "version": 3
   },
   "file_extension": ".py",
   "mimetype": "text/x-python",
   "name": "python",
   "nbconvert_exporter": "python",
   "pygments_lexer": "ipython3",
   "version": "3.12.2"
  }
 },
 "nbformat": 4,
 "nbformat_minor": 5
}
